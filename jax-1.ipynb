{
 "cells": [
  {
   "cell_type": "code",
   "execution_count": 1,
   "id": "72146aed-7ecf-42dd-84a4-89de9c28fef8",
   "metadata": {},
   "outputs": [],
   "source": [
    "import numpy as np\n",
    "import jax.numpy as jnp"
   ]
  },
  {
   "cell_type": "code",
   "execution_count": 2,
   "id": "b14a955c-0a4c-49c1-80e3-adbd44320e9f",
   "metadata": {},
   "outputs": [],
   "source": [
    "from jax import jit, grad, jacfwd, jacrev"
   ]
  },
  {
   "cell_type": "code",
   "execution_count": 3,
   "id": "95c9aa25-3f08-4119-8ea9-01f8b68b4ff6",
   "metadata": {},
   "outputs": [],
   "source": [
    "import multiprocess as mp"
   ]
  },
  {
   "cell_type": "markdown",
   "id": "4aa05b18-1350-4e21-8085-173940a20b0b",
   "metadata": {},
   "source": [
    "## Jamie's HZPT model"
   ]
  },
  {
   "cell_type": "markdown",
   "id": "9a03ab89-1327-4d22-afc4-48334bdbe081",
   "metadata": {},
   "source": [
    "For this model, we are computing its Jacobian matrix with shape (50, 3)."
   ]
  },
  {
   "cell_type": "markdown",
   "id": "0b63740a-6823-49a1-ba44-67d6929aa337",
   "metadata": {},
   "source": [
    "### Analytic"
   ]
  },
  {
   "cell_type": "code",
   "execution_count": 4,
   "id": "3f6f14f7-ecfc-4577-963c-4aebf76a92c7",
   "metadata": {},
   "outputs": [
    {
     "name": "stdout",
     "output_type": "stream",
     "text": [
      "45.7 µs ± 1.45 µs per loop (mean ± std. dev. of 7 runs, 10000 loops each)\n"
     ]
    }
   ],
   "source": [
    "r = np.logspace(-1,2)\n",
    "\n",
    "def hzpt_g_analytic(r,A0,R,R1h):\n",
    "    A_grad = - np.exp(-r/R) / (4*np.pi*r*R**2) *(1 - (R/R1h)**2 * np.exp(-(R+R1h)*r/(R*R1h)))\n",
    "    R_grad = A0*(-(r- 2*R)/R**2 + 2*np.exp(-r*(1/R + 1/R1h))*r /R1h**2) * np.exp(-r/R) / (4*np.pi*r*R**2)\n",
    "    R1h_grad = A0* np.exp(-r*(1/R + 1/R1h))* R**2 *(r-2*R1h)/R1h**4 * np.exp(-r/R) / (4*np.pi*r*R**2)\n",
    "    return np.array([A_grad,R_grad,R1h_grad])\n",
    "\n",
    "%timeit hzpt_g_analytic(r, 750.,26.,2.)"
   ]
  },
  {
   "cell_type": "markdown",
   "id": "2e2798e5-f5b6-4fa0-98c7-a8b2a91f5262",
   "metadata": {},
   "source": [
    "⬆️ single call, with timeit"
   ]
  },
  {
   "cell_type": "code",
   "execution_count": 5,
   "id": "d54f5d3c-8393-4f1e-9ed9-83a564ac3a88",
   "metadata": {},
   "outputs": [
    {
     "name": "stdout",
     "output_type": "stream",
     "text": [
      "CPU times: user 4.77 s, sys: 8.37 ms, total: 4.78 s\n",
      "Wall time: 4.78 s\n"
     ]
    }
   ],
   "source": [
    "%%time\n",
    "for _ in range(int(1e5)):\n",
    "    hzpt_g_analytic(r + _ * 1e-6, 750. + _ * 1e-6, 26. + _ * 1e-6, 2. + _ * 1e-6)"
   ]
  },
  {
   "cell_type": "markdown",
   "id": "a9b645ba-624b-41b3-9d14-80bb023ed196",
   "metadata": {},
   "source": [
    "⬆️ 1e5 calls, 1 local worker"
   ]
  },
  {
   "cell_type": "code",
   "execution_count": 6,
   "id": "a9f034a3-309f-4c84-b65e-da6526b6f6c8",
   "metadata": {},
   "outputs": [
    {
     "name": "stdout",
     "output_type": "stream",
     "text": [
      "CPU times: user 1.67 s, sys: 42.7 ms, total: 1.72 s\n",
      "Wall time: 2.21 s\n"
     ]
    }
   ],
   "source": [
    "%%time\n",
    "\n",
    "def foo(x):\n",
    "    hzpt_g_analytic(r + x, 750. + x, 26. + x, 2. + x)\n",
    "\n",
    "with mp.Pool(4) as pool:\n",
    "    pool.map(foo, np.arange(1e5) * 1e-6)"
   ]
  },
  {
   "cell_type": "markdown",
   "id": "6a3e2c94-bb76-464f-91a4-699cb61a51c5",
   "metadata": {},
   "source": [
    "⬆️ 1e5 calls, 4 parallel workers, not returning results (less overhead)"
   ]
  },
  {
   "cell_type": "code",
   "execution_count": 7,
   "id": "a463c600-31b2-4461-8814-3128f661c252",
   "metadata": {},
   "outputs": [
    {
     "name": "stdout",
     "output_type": "stream",
     "text": [
      "CPU times: user 2.31 s, sys: 241 ms, total: 2.55 s\n",
      "Wall time: 3.72 s\n"
     ]
    }
   ],
   "source": [
    "%%time\n",
    "\n",
    "def foo(x):\n",
    "    return hzpt_g_analytic(r + x, 750. + x, 26. + x, 2. + x)\n",
    "\n",
    "with mp.Pool(4) as pool:\n",
    "    pool.map(foo, np.arange(1e5) * 1e-6)"
   ]
  },
  {
   "cell_type": "markdown",
   "id": "ba1041d9-1bca-474f-97ac-8a4a61e63ac3",
   "metadata": {},
   "source": [
    "⬆️ 1e5 calls, 4 parallel workers, returning results (more overhead)"
   ]
  },
  {
   "cell_type": "markdown",
   "id": "b1c0be57-0903-43fe-bfe2-5742bb8685b2",
   "metadata": {
    "tags": []
   },
   "source": [
    "### Jax (fwd mode)"
   ]
  },
  {
   "cell_type": "code",
   "execution_count": 4,
   "id": "ca942ab8-5c55-4c14-8e5b-859f4806a8c9",
   "metadata": {},
   "outputs": [
    {
     "name": "stderr",
     "output_type": "stream",
     "text": [
      "WARNING:absl:No GPU/TPU found, falling back to CPU. (Set TF_CPP_MIN_LOG_LEVEL=0 and rerun for more info.)\n"
     ]
    }
   ],
   "source": [
    "r = jnp.logspace(-1,2)\n",
    "\n",
    "@jit\n",
    "def hzpt_f_jax(r,A0,R,R1h):\n",
    "    F2 = jnp.exp(-r/R) / (4*jnp.pi*r*R**2)\n",
    "    return -A0 * F2 * (1 - (R/R1h)**2 * jnp.exp(-(R+R1h)*r/(R*R1h)))"
   ]
  },
  {
   "cell_type": "code",
   "execution_count": 5,
   "id": "45281762-e4d1-4569-9d88-2d02c26fd81d",
   "metadata": {},
   "outputs": [
    {
     "name": "stdout",
     "output_type": "stream",
     "text": [
      "3.59 ms ± 206 µs per loop (mean ± std. dev. of 7 runs, 100 loops each)\n"
     ]
    }
   ],
   "source": [
    "def hzpt_jacfwd_jax(r, A0, R, R1h):\n",
    "    return jacfwd(hzpt_f_jax, argnums=(1, 2, 3))(r, A0, R, R1h)\n",
    "\n",
    "hzpt_jacfwd_jax(r, 750., 26., 2.)\n",
    "%timeit hzpt_jacfwd_jax(r, 750., 26., 2.)"
   ]
  },
  {
   "cell_type": "markdown",
   "id": "11805804-40fe-4123-b67b-651c293d2448",
   "metadata": {},
   "source": [
    "⬆️ no jit, single call, with timeit"
   ]
  },
  {
   "cell_type": "code",
   "execution_count": 6,
   "id": "f05fc7dc-16eb-4b9c-a405-4e423b66ec81",
   "metadata": {},
   "outputs": [
    {
     "name": "stdout",
     "output_type": "stream",
     "text": [
      "11.4 µs ± 391 ns per loop (mean ± std. dev. of 7 runs, 100000 loops each)\n"
     ]
    }
   ],
   "source": [
    "@jit\n",
    "def hzpt_jacfwd_jax(r, A0, R, R1h):\n",
    "    return jacfwd(hzpt_f_jax, argnums=(1, 2, 3))(r, A0, R, R1h)\n",
    "\n",
    "hzpt_jacfwd_jax(r, 750., 26., 2.)\n",
    "%timeit hzpt_jacfwd_jax(r, 750., 26., 2.)"
   ]
  },
  {
   "cell_type": "markdown",
   "id": "09d9e6d2-129a-4623-88f6-d7e7a50d16d3",
   "metadata": {},
   "source": [
    "⬆️ jit, single call, with timeit"
   ]
  },
  {
   "cell_type": "code",
   "execution_count": 7,
   "id": "a83e8b42-7123-434f-a5d0-22d42717bef8",
   "metadata": {},
   "outputs": [
    {
     "name": "stdout",
     "output_type": "stream",
     "text": [
      "CPU times: user 1.87 s, sys: 0 ns, total: 1.87 s\n",
      "Wall time: 1.87 s\n"
     ]
    }
   ],
   "source": [
    "%%time\n",
    "for _ in range(int(1e5)):\n",
    "    hzpt_jacfwd_jax(r + _ * 1e-6, 750. + _ * 1e-6, 26. + _ * 1e-6, 2. + _ * 1e-6)"
   ]
  },
  {
   "cell_type": "markdown",
   "id": "614e8d38-54bc-4c18-b0cf-c44e5a19ee6f",
   "metadata": {},
   "source": [
    "⬆️ jit, 1e5 calls, 1 local worker"
   ]
  },
  {
   "cell_type": "code",
   "execution_count": 8,
   "id": "f174b414-6869-452c-9ff6-f461276020c5",
   "metadata": {},
   "outputs": [
    {
     "name": "stdout",
     "output_type": "stream",
     "text": [
      "CPU times: user 1.8 s, sys: 85.9 ms, total: 1.89 s\n",
      "Wall time: 2.06 s\n"
     ]
    }
   ],
   "source": [
    "%%time\n",
    "\n",
    "def foo(x):\n",
    "    hzpt_jacfwd_jax(r + x, 750. + x, 26. + x, 2. + x)\n",
    "\n",
    "with mp.Pool(4) as pool:\n",
    "    pool.map(foo, np.arange(1e5) * 1e-6)"
   ]
  },
  {
   "cell_type": "markdown",
   "id": "4bb2c925-7bd1-4a67-920f-db3fb726c59c",
   "metadata": {},
   "source": [
    "⬆️ jit, 1e5 calls, 4 parallel workers, not returning results (less overhead)"
   ]
  },
  {
   "cell_type": "code",
   "execution_count": 9,
   "id": "fd1b7e09-1812-4922-9596-b957b0b6e7af",
   "metadata": {},
   "outputs": [
    {
     "name": "stdout",
     "output_type": "stream",
     "text": [
      "CPU times: user 2.7 s, sys: 137 ms, total: 2.84 s\n",
      "Wall time: 5.75 s\n"
     ]
    }
   ],
   "source": [
    "%%time\n",
    "\n",
    "def foo(x):\n",
    "    return hzpt_jacfwd_jax(r + x, 750. + x, 26. + x, 2. + x)\n",
    "\n",
    "with mp.Pool(4) as pool:\n",
    "    pool.map(foo, np.arange(1e5) * 1e-6)"
   ]
  },
  {
   "cell_type": "markdown",
   "id": "4f5c943c-4ee3-4a28-a8e3-5ae72a07353a",
   "metadata": {},
   "source": [
    "⬆️ jit, 1e5 calls, 4 parallel workers, returning results (more overhead)"
   ]
  },
  {
   "cell_type": "markdown",
   "id": "c9441858-b400-4b0b-a5f8-d34d6b8ee6cc",
   "metadata": {
    "tags": []
   },
   "source": [
    "### Jax (rev mode)"
   ]
  },
  {
   "cell_type": "code",
   "execution_count": 4,
   "id": "f7dbc014-2e67-4f73-9e72-9d34d286cffc",
   "metadata": {},
   "outputs": [
    {
     "name": "stderr",
     "output_type": "stream",
     "text": [
      "WARNING:absl:No GPU/TPU found, falling back to CPU. (Set TF_CPP_MIN_LOG_LEVEL=0 and rerun for more info.)\n"
     ]
    }
   ],
   "source": [
    "r = jnp.logspace(-1,2)\n",
    "\n",
    "@jit\n",
    "def hzpt_f_jax(r,A0,R,R1h):\n",
    "    F2 = jnp.exp(-r/R) / (4*jnp.pi*r*R**2)\n",
    "    return -A0 * F2 * (1 - (R/R1h)**2 * jnp.exp(-(R+R1h)*r/(R*R1h)))"
   ]
  },
  {
   "cell_type": "code",
   "execution_count": 5,
   "id": "21d23e08-65ca-47ca-9d8e-0996d716c568",
   "metadata": {},
   "outputs": [
    {
     "name": "stdout",
     "output_type": "stream",
     "text": [
      "4.69 ms ± 85.6 µs per loop (mean ± std. dev. of 7 runs, 100 loops each)\n"
     ]
    }
   ],
   "source": [
    "def hzpt_jacrev_jax(r, A0, R, R1h):\n",
    "    return jacrev(hzpt_f_jax, argnums=(1, 2, 3))(r, A0, R, R1h)\n",
    "\n",
    "hzpt_jacrev_jax(r, 750., 26., 2.)\n",
    "%timeit hzpt_jacrev_jax(r, 750., 26., 2.)"
   ]
  },
  {
   "cell_type": "markdown",
   "id": "4ee235c6-7d66-424b-921b-119c13c7c1ba",
   "metadata": {},
   "source": [
    "⬆️ no jit, single call, with timeit"
   ]
  },
  {
   "cell_type": "code",
   "execution_count": 6,
   "id": "5b468b2b-6781-4644-8602-8a13ce4d51df",
   "metadata": {},
   "outputs": [
    {
     "name": "stdout",
     "output_type": "stream",
     "text": [
      "26.4 µs ± 441 ns per loop (mean ± std. dev. of 7 runs, 10000 loops each)\n"
     ]
    }
   ],
   "source": [
    "@jit\n",
    "def hzpt_jacrev_jax(r, A0, R, R1h):\n",
    "    return jacrev(hzpt_f_jax, argnums=(1, 2, 3))(r, A0, R, R1h)\n",
    "\n",
    "hzpt_jacrev_jax(r, 750., 26., 2.)\n",
    "%timeit hzpt_jacrev_jax(r, 750., 26., 2.)"
   ]
  },
  {
   "cell_type": "markdown",
   "id": "67fbe58f-125d-4397-be94-a28626651d25",
   "metadata": {},
   "source": [
    "⬆️ jit, single call, with timeit"
   ]
  },
  {
   "cell_type": "code",
   "execution_count": 7,
   "id": "239740d5-5850-4dc5-851c-9a652932d5bf",
   "metadata": {},
   "outputs": [
    {
     "name": "stdout",
     "output_type": "stream",
     "text": [
      "CPU times: user 3.74 s, sys: 7.2 ms, total: 3.75 s\n",
      "Wall time: 3.76 s\n"
     ]
    }
   ],
   "source": [
    "%%time\n",
    "for _ in range(int(1e5)):\n",
    "    hzpt_jacrev_jax(r + _ * 1e-6, 750. + _ * 1e-6, 26. + _ * 1e-6, 2. + _ * 1e-6)"
   ]
  },
  {
   "cell_type": "markdown",
   "id": "e0cbf442-26f1-4046-bbee-6bdde11ba423",
   "metadata": {},
   "source": [
    "⬆️ jit, 1e5 calls, 1 local worker"
   ]
  },
  {
   "cell_type": "code",
   "execution_count": 8,
   "id": "0083fbc5-44e0-4b8b-b849-bf2db549d1cc",
   "metadata": {},
   "outputs": [
    {
     "name": "stdout",
     "output_type": "stream",
     "text": [
      "CPU times: user 1.72 s, sys: 95.5 ms, total: 1.81 s\n",
      "Wall time: 2.51 s\n"
     ]
    }
   ],
   "source": [
    "%%time\n",
    "\n",
    "def foo(x):\n",
    "    hzpt_jacrev_jax(r + x, 750. + x, 26. + x, 2. + x)\n",
    "\n",
    "with mp.Pool(4) as pool:\n",
    "    pool.map(foo, np.arange(1e5) * 1e-6)"
   ]
  },
  {
   "cell_type": "markdown",
   "id": "9e44297c-3cac-4625-9834-9f7ac226bb37",
   "metadata": {},
   "source": [
    "⬆️ jit, 1e5 calls, 4 parallel workers, not returning results (less overhead)"
   ]
  },
  {
   "cell_type": "code",
   "execution_count": 9,
   "id": "d7e901ba-028e-4062-8b93-8e5581bb139e",
   "metadata": {},
   "outputs": [
    {
     "name": "stdout",
     "output_type": "stream",
     "text": [
      "CPU times: user 2.69 s, sys: 160 ms, total: 2.85 s\n",
      "Wall time: 6.78 s\n"
     ]
    }
   ],
   "source": [
    "%%time\n",
    "\n",
    "def foo(x):\n",
    "    return hzpt_jacrev_jax(r + x, 750. + x, 26. + x, 2. + x)\n",
    "\n",
    "with mp.Pool(4) as pool:\n",
    "    pool.map(foo, np.arange(1e5) * 1e-6)"
   ]
  },
  {
   "cell_type": "markdown",
   "id": "f25254c9-330e-4e62-82c1-ba8524cea900",
   "metadata": {},
   "source": [
    "⬆️ jit, 1e5 calls, 4 parallel workers, returning results (more overhead)"
   ]
  },
  {
   "cell_type": "code",
   "execution_count": null,
   "id": "44e4abb5-cd28-4416-8cd4-2b5d4430c437",
   "metadata": {},
   "outputs": [],
   "source": []
  }
 ],
 "metadata": {
  "kernelspec": {
   "display_name": "hejia@cori-3",
   "language": "python",
   "name": "hejia-3"
  },
  "language_info": {
   "codemirror_mode": {
    "name": "ipython",
    "version": 3
   },
   "file_extension": ".py",
   "mimetype": "text/x-python",
   "name": "python",
   "nbconvert_exporter": "python",
   "pygments_lexer": "ipython3",
   "version": "3.8.5"
  }
 },
 "nbformat": 4,
 "nbformat_minor": 5
}
